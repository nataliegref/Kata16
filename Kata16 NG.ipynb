{
 "cells": [
  {
   "cell_type": "code",
   "execution_count": 1,
   "id": "e1ac213e",
   "metadata": {},
   "outputs": [],
   "source": [
    "#from http://codekata.com/kata/kata16-business-rules/"
   ]
  },
  {
   "cell_type": "markdown",
   "id": "1bbf1859",
   "metadata": {},
   "source": [
    "- If the payment is for a physical product, generate a packing slip for shipping.\n",
    "- If the payment is for a book, create a duplicate packing slip for the royalty department.\n",
    "- If the payment is for a membership, activate that membership.\n",
    "- If the payment is an upgrade to a membership, apply the upgrade.\n",
    "- If the payment is for a membership or upgrade, e-mail the owner and inform them of the activation/upgrade.\n",
    "- If the payment is for the video “Learning to Ski,” add a free “First Aid” video to the packing slip (the result of a court decision in 1997).\n",
    "- If the payment is for a physical product or a book, generate a commission payment to the agent."
   ]
  },
  {
   "cell_type": "markdown",
   "id": "55619b20",
   "metadata": {},
   "source": [
    "Now you’re faced with implementing this system. You know that they’re going to change: once the system goes live, all sorts of special cases will come out of the woodwork.\n",
    "\n",
    "### Objectives\n",
    "How can you tame these wild business rules? How can you build a system that will be flexible enough to handle both the complexity and the need for change? And how can you do it without condemming yourself to years and years of mindless support?"
   ]
  },
  {
   "cell_type": "code",
   "execution_count": 2,
   "id": "9021e421",
   "metadata": {},
   "outputs": [],
   "source": [
    "#create all the rules that currently exist\n",
    "def packing_slip(info, destination='shipping'):\n",
    "    print(f'generate packing slip for {destination}')\n",
    "\n",
    "def commission(info):    \n",
    "    print('generate a commission payment to the agent')\n",
    "    \n",
    "def packing_book(info):\n",
    "    return packing_slip(info,'royalty department')\n",
    "\n",
    "def new(info):\n",
    "    print('new')\n",
    "    \n",
    "def email_owner(info, membership = 'activation'):\n",
    "    print(f\"email owner at {info['email']} to inform of membership {membership}\")\n",
    "    \n",
    "def activate(info):\n",
    "    print(f\"activate {info['name']}'s' membership\")\n",
    "    \n",
    "def upgrade(info):\n",
    "    print(f\"apply upgrade to {info['name']}'s' membership\")\n",
    "    \n",
    "def none(info):\n",
    "    pass\n",
    "\n",
    "#make dictionary with all the current order types that exist and the sub-categories\n",
    "categories = {'physical_product':['book', 'video'], \n",
    "              'membership_product':['membership','upgrade']}\n",
    "\n",
    "#make dictionary with all the current order rules that exist\n",
    "rules = {'physical_product':[packing_slip, commission],'book':packing_book, 'video':none, \n",
    "              'membership_product':email_owner, 'membership':activate, 'upgrade':upgrade}\n",
    "\n",
    "       \n",
    "def process_order(info, categories, rules):\n",
    "    \"\"\"\n",
    "    Process an order based on provided information, categories, and rules.\n",
    "\n",
    "    Args:\n",
    "        info (dict): Information about the order.\n",
    "        categories (dict): Dictionary mapping order types to their respective categories.\n",
    "        rules (dict): Dictionary mapping categories/types to the corresponding actions.\n",
    "    \"\"\"\n",
    "\n",
    "    actions = []\n",
    "\n",
    "    # Check if the order type is present in any category\n",
    "    def checking(dictionary, actions):\n",
    "        for k, v in dictionary.items(): \n",
    "            for i in v:\n",
    "                is_in = False\n",
    "                if type(i) is dict:\n",
    "                    actions, is_in = checking(i, actions)\n",
    "                else:\n",
    "                    if info['order'] == i:\n",
    "                        is_in = True\n",
    "                if is_in:\n",
    "                    # Append actions based on the category/type\n",
    "                    if type(rules[k]) is list:\n",
    "                        actions += rules[k]\n",
    "                    else:\n",
    "                        actions.append(rules[k])\n",
    "        return actions, is_in\n",
    "\n",
    "    checking(categories, actions)\n",
    "    # Add actions from the specific order type\n",
    "    if type(rules[info['order']]) is list:\n",
    "        actions += rules[info['order']]\n",
    "    else:\n",
    "        actions.append(rules[info['order']])\n",
    "\n",
    "    # Execute each action for the order\n",
    "    for action in actions:\n",
    "        action(info)\n"
   ]
  },
  {
   "cell_type": "markdown",
   "id": "d80c7510",
   "metadata": {},
   "source": [
    "# Here is an example of an order"
   ]
  },
  {
   "cell_type": "code",
   "execution_count": 3,
   "id": "dc0814f3",
   "metadata": {},
   "outputs": [
    {
     "name": "stdout",
     "output_type": "stream",
     "text": [
      "generate packing slip for shipping\n",
      "generate a commission payment to the agent\n",
      "generate packing slip for royalty department\n"
     ]
    }
   ],
   "source": [
    "#example of some information we might have\n",
    "info = {'order':'book','email': 'john@gmail.com', 'name': 'John', 'address': '123 road'}\n",
    "\n",
    "process_order(info, categories, rules)"
   ]
  },
  {
   "cell_type": "markdown",
   "id": "f5d6c51e",
   "metadata": {},
   "source": [
    "# Here is an example of adding new items and rules"
   ]
  },
  {
   "cell_type": "code",
   "execution_count": 4,
   "id": "9e7a2f7a",
   "metadata": {},
   "outputs": [],
   "source": [
    "d = {'video':['Learning to Ski']}\n",
    "categories['physical_product'] = [d if item == 'video' else item for item in categories['physical_product']]\n",
    "\n",
    "def first_aid(info):\n",
    "    #the result of a court decision in 1997\n",
    "    print(\"add a free 'First aid' video to the order\")\n",
    "\n",
    "rules['Learning to Ski'] = first_aid"
   ]
  },
  {
   "cell_type": "markdown",
   "id": "a8ffffb1",
   "metadata": {},
   "source": [
    "# Here is an example of another order based on this new addition"
   ]
  },
  {
   "cell_type": "code",
   "execution_count": 5,
   "id": "223d3444",
   "metadata": {},
   "outputs": [
    {
     "name": "stdout",
     "output_type": "stream",
     "text": [
      "generate packing slip for shipping\n",
      "generate a commission payment to the agent\n",
      "add a free 'First aid' video to the order\n"
     ]
    }
   ],
   "source": [
    "info = {'order':'Learning to Ski','email': 'john@gmail.com', 'name': 'John', 'address': '123 road'}\n",
    "\n",
    "process_order(info, categories, rules)"
   ]
  },
  {
   "cell_type": "code",
   "execution_count": null,
   "id": "f43ebd64",
   "metadata": {},
   "outputs": [],
   "source": []
  }
 ],
 "metadata": {
  "kernelspec": {
   "display_name": "Python 3",
   "language": "python",
   "name": "python3"
  },
  "language_info": {
   "codemirror_mode": {
    "name": "ipython",
    "version": 3
   },
   "file_extension": ".py",
   "mimetype": "text/x-python",
   "name": "python",
   "nbconvert_exporter": "python",
   "pygments_lexer": "ipython3",
   "version": "3.8.8"
  }
 },
 "nbformat": 4,
 "nbformat_minor": 5
}
